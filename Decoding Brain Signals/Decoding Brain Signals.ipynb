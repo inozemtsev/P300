{
 "cells": [
  {
   "cell_type": "code",
   "execution_count": null,
   "metadata": {
    "collapsed": true
   },
   "outputs": [],
   "source": [
    "import pandas as pd\n",
    "import numpy as np\n",
    "from numpy.fft import rfft\n",
    "from sklearn.preprocessing import normalize\n",
    "from numpy.linalg import norm, eig\n",
    "from scipy.signal import cwt, morlet, ricker"
   ]
  },
  {
   "cell_type": "code",
   "execution_count": null,
   "metadata": {
    "collapsed": false
   },
   "outputs": [],
   "source": [
    "data = pd.read_csv('train.csv')"
   ]
  },
  {
   "cell_type": "markdown",
   "metadata": {},
   "source": [
    "## Preprocessing"
   ]
  },
  {
   "cell_type": "code",
   "execution_count": null,
   "metadata": {
    "collapsed": false,
    "scrolled": true
   },
   "outputs": [],
   "source": [
    "patients_data = {p: {} for p in ['p1', 'p2', 'p3', 'p4']}\n",
    "\n",
    "data = data[data.Stimulus_ID != -1]\n",
    "\n",
    "for p in ['p1', 'p2', 'p3', 'p4']:\n",
    "    pat = data[data.PatientID == p]\n",
    "    pat = pat.select(lambda x: pat[x].iloc[0]!=-999999, axis=1)\n",
    "    \n",
    "    ans = pat[pat.Stimulus_Type != 101].groupby(['Stimulus_ID']).head(1).Stimulus_Type.apply(lambda x: 0 if x<51 else 1) \n",
    "    patients_data[p]['ans'] = list(ans)\n",
    "    \n",
    "    num_epoch = len(patients_data[p]['ans'])\n",
    "    channels = pat.shape[1] - 3\n",
    "    if p=='p1':\n",
    "        left, right = 0, 800\n",
    "    elif p=='p2':\n",
    "        left, right = 0, 800\n",
    "    else:\n",
    "        left, right = 0, 800\n",
    "    pat_data = patients_data[p]['data'] = np.zeros((num_epoch, 1, channels, right-left))\n",
    "    \n",
    "    for epoch in range(1, num_epoch+1):\n",
    "        epoch_data = pat[pat.Stimulus_ID == epoch].iloc[left:right, 1:-2]\n",
    "        pat_data[epoch-1, 0] = ((epoch_data - np.mean(epoch_data, axis=0))/np.std(epoch_data, axis=0)).T\n",
    "        "
   ]
  },
  {
   "cell_type": "markdown",
   "metadata": {},
   "source": [
    "## Single classifier for each patient"
   ]
  },
  {
   "cell_type": "code",
   "execution_count": null,
   "metadata": {
    "collapsed": false
   },
   "outputs": [],
   "source": [
    "from keras.models import Sequential, Model\n",
    "from keras.layers.convolutional import Convolution2D, Convolution1D, MaxPooling2D, AveragePooling2D\n",
    "from keras.layers.core import Dense, Flatten, Dropout\n",
    "from keras.layers import Input\n",
    "from keras.optimizers import SGD, Adam, Adadelta, RMSprop, Adagrad\n",
    "from keras.layers.noise import GaussianNoise\n",
    "from keras.regularizers import l2, l1, activity_l1l2\n",
    "from keras.callbacks import EarlyStopping\n",
    "from sklearn.cross_validation import StratifiedKFold\n",
    "from sklearn.metrics import accuracy_score\n",
    "import numpy as np, keras, pickle\n",
    "from scipy.stats import gmean\n",
    "import json, theano"
   ]
  },
  {
   "cell_type": "code",
   "execution_count": null,
   "metadata": {
    "collapsed": true
   },
   "outputs": [],
   "source": [
    "def create_model(patient, shape):\n",
    "    \n",
    "    model = Sequential()\n",
    "    model.add(Convolution2D(5, shape[1], 1, input_shape=shape, activation='tanh', init='normal'))\n",
    "    model.add(Convolution2D(5, 1, 10, subsample=(1, 5), activation='tanh', init='normal'))\n",
    "    model.add(Flatten())\n",
    "    model.add(Dense(10, activation='sigmoid', init='normal'))\n",
    "    model.add(Dropout(0.5))\n",
    "    model.add(Dense(1, activation='sigmoid', init='normal'))\n",
    "\n",
    "    model.compile(loss='mse', optimizer=Adagrad(), metrics=['accuracy'])\n",
    "    \n",
    "    return model\n",
    "\n",
    "def get_activations(model, layer, X_batch):\n",
    "    get_activations = theano.function([model.layers[0].input], model.layers[layer].output, \n",
    "                                      allow_input_downcast=True)\n",
    "    activations = get_activations(X_batch)\n",
    "    return activations"
   ]
  },
  {
   "cell_type": "code",
   "execution_count": null,
   "metadata": {
    "collapsed": false
   },
   "outputs": [],
   "source": [
    "np.random.seed(seed=42)\n",
    "\n",
    "validate = False\n",
    "FOLDS = 5\n",
    "\n",
    "for p in ['p1']:\n",
    "    X, y = patients_data[p]['data'][:, :, :, 600:700], np.array(patients_data[p]['ans'])\n",
    "    features = patients_data[p]['features'] = np.zeros((200, 10))\n",
    "\n",
    "    if validate:\n",
    "        skf = StratifiedKFold(y, n_folds=FOLDS, random_state=42, shuffle=True)\n",
    "\n",
    "    nb_epoch = 100 \n",
    "    bsize = 80\n",
    "\n",
    "    if validate:\n",
    "        acc = []\n",
    "        for train_index, test_index in skf:\n",
    "            model = create_model(p, X.shape[1:])\n",
    "            model.fit(X[train_index], y[train_index], batch_size=bsize, nb_epoch=nb_epoch, verbose=0)\n",
    "\n",
    "\n",
    "            ans = model.predict_classes(X[test_index], verbose=0, batch_size=test_index.shape[0])\n",
    "            acc.append(accuracy_score(y[test_index], ans))\n",
    "            print(accuracy_score(y[test_index], ans))\n",
    "        print('left: ', left, 'right: ', right)\n",
    "        print('mean: ', np.mean(acc))\n",
    "        print('std: ', np.std(acc))\n",
    "        print('--------------')\n",
    "\n",
    "    else:\n",
    "        model = create_model(p, X.shape[1:])\n",
    "        model.fit(X, y, batch_size=bsize, nb_epoch=nb_epoch, verbose=0)\n",
    "        np.savez(p, data=model.get_weights())"
   ]
  },
  {
   "cell_type": "markdown",
   "metadata": {},
   "source": [
    "## Ensembles (crops by time)"
   ]
  },
  {
   "cell_type": "code",
   "execution_count": null,
   "metadata": {
    "collapsed": false,
    "scrolled": false
   },
   "outputs": [],
   "source": [
    "np.random.seed(seed=42)\n",
    "            \n",
    "validate = True\n",
    "FOLDS = 5\n",
    "\n",
    "windows = {'p1': [[200, 800], [300, 800], [600, 700], [0, 800]],\n",
    "           'p2': [[100, 800], [200, 700], [600, 700], [0, 800]],\n",
    "           'p3': [[200, 700], [200, 800], [400, 700], [500, 800], [0, 800]],\n",
    "           'p4': [[100, 800], [300, 700], [500, 800], [0, 800]]}\n",
    "\n",
    "models = {'p1': [], 'p2': [], 'p3': [], 'p4': []}\n",
    "\n",
    "for p in ['p1', 'p2', 'p3', 'p4']:\n",
    "    X, y = patients_data[p]['data'], np.array(patients_data[p]['ans'])\n",
    "    if validate:\n",
    "        skf = StratifiedKFold(y, n_folds=FOLDS, random_state=42, shuffle=True)\n",
    "\n",
    "    nb_epoch = 100 \n",
    "    bsize=80\n",
    "    \n",
    "    if validate:\n",
    "        acc = []\n",
    "        for train_index, test_index in skf:\n",
    "            X_train, X_test = X[train_index], X[test_index]\n",
    "            y_train, y_test = y[train_index], y[test_index]\n",
    "            for w in windows[p]:\n",
    "                model = create_model(p, (X_train.shape[1], X_train.shape[2], w[1]-w[0]))\n",
    "                models[p].append(model)\n",
    "                models[p][-1].fit(X_train[:, :, :, w[0]:w[1]], y_train, batch_size=bsize, \n",
    "                                  nb_epoch=nb_epoch, verbose=0)\n",
    "\n",
    "            probs = np.zeros((test_index.shape[0], len(windows[p])))\n",
    "            for i, w in enumerate(windows[p]):\n",
    "                probs[:, i] = models[p][i].predict_proba(X_test[:, :, :, w[0]:w[1]], verbose=0, \n",
    "                                                         batch_size=test_index.shape[0]).flatten()\n",
    "            \n",
    "            models[p].clear()\n",
    "            ans = calibrate(gmean(probs, axis=1))\n",
    "            acc.append(accuracy_score(y_test, ans))\n",
    "            print(accuracy_score(y[test_index], ans))\n",
    "        print('mean: ', np.mean(acc))\n",
    "        print('std: ', np.std(acc))\n",
    "        print('--------------')\n",
    "\n",
    "    else:\n",
    "        for i, w in enumerate(windows[p]):\n",
    "            model = create_model(p, (X.shape[1], X.shape[2], w[1]-w[0]))\n",
    "            model.fit(X[:, :, :, w[0]:w[1]], y, batch_size=bsize, \n",
    "                              nb_epoch=nb_epoch, verbose=0)\n",
    "            np.savez(p+'_'+str(i), data=model.get_weights())\n",
    "        "
   ]
  },
  {
   "cell_type": "markdown",
   "metadata": {
    "collapsed": true
   },
   "source": [
    "## Submission preparation"
   ]
  },
  {
   "cell_type": "code",
   "execution_count": null,
   "metadata": {
    "collapsed": false
   },
   "outputs": [],
   "source": [
    "!python2.7 submission.py create sub_ensemble"
   ]
  }
 ],
 "metadata": {
  "kernelspec": {
   "display_name": "Python 3",
   "language": "python",
   "name": "python3"
  },
  "language_info": {
   "codemirror_mode": {
    "name": "ipython",
    "version": 3
   },
   "file_extension": ".py",
   "mimetype": "text/x-python",
   "name": "python",
   "nbconvert_exporter": "python",
   "pygments_lexer": "ipython3",
   "version": "3.5.1"
  }
 },
 "nbformat": 4,
 "nbformat_minor": 0
}
