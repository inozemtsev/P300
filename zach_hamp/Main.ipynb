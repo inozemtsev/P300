{
 "cells": [
  {
   "cell_type": "code",
   "execution_count": null,
   "metadata": {
    "collapsed": true
   },
   "outputs": [],
   "source": [
    "import trials_converter as tc\n",
    "import os"
   ]
  },
  {
   "cell_type": "code",
   "execution_count": null,
   "metadata": {
    "collapsed": false
   },
   "outputs": [],
   "source": [
    "data = tc.Trials([])"
   ]
  },
  {
   "cell_type": "code",
   "execution_count": null,
   "metadata": {
    "collapsed": false,
    "scrolled": false
   },
   "outputs": [],
   "source": [
    "from tqdm import tqdm\n",
    "\n",
    "for root, _, files in os.walk('../hamp_codes/'):\n",
    "    for file in tqdm(files):\n",
    "        trials_file = tc.load_trials_from_mat(os.path.join(root, file))\n",
    "        trials_file = trials_file.get_trials_by_tasks(['stimulus', 'memory'])\n",
    "        trials_file = trials_file.get_trials_by_state([0, 5])\n",
    "        trials_file = trials_file.get_spikes_between_events(begin='target_on', end='saccade_detected')\n",
    "        data = data + trials_file"
   ]
  },
  {
   "cell_type": "code",
   "execution_count": null,
   "metadata": {
    "collapsed": false
   },
   "outputs": [],
   "source": [
    "data.to_pickle('hamp_exp.pkl')"
   ]
  },
  {
   "cell_type": "code",
   "execution_count": null,
   "metadata": {
    "collapsed": false
   },
   "outputs": [],
   "source": [
    "features, labels = [], []\n",
    "ms = 800\n",
    "\n",
    "for i, elem in enumerate(data):\n",
    "    if elem.spikes.shape[0] == 0:\n",
    "        continue\n",
    "    last = elem.spikes.index[-1]\n",
    "    features.append(elem.spikes.sum(1).loc[last-ms:].sum())\n",
    "    labels.append(elem.state)"
   ]
  },
  {
   "cell_type": "code",
   "execution_count": null,
   "metadata": {
    "collapsed": false
   },
   "outputs": [],
   "source": [
    "import numpy as np\n",
    "features = np.array(features)\n",
    "labels = np.array(labels)"
   ]
  }
 ],
 "metadata": {
  "anaconda-cloud": {},
  "kernelspec": {
   "display_name": "Python [Root]",
   "language": "python",
   "name": "Python [Root]"
  },
  "language_info": {
   "codemirror_mode": {
    "name": "ipython",
    "version": 3
   },
   "file_extension": ".py",
   "mimetype": "text/x-python",
   "name": "python",
   "nbconvert_exporter": "python",
   "pygments_lexer": "ipython3",
   "version": "3.5.2"
  }
 },
 "nbformat": 4,
 "nbformat_minor": 0
}
